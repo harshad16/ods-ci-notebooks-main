{
 "cells": [
  {
   "cell_type": "code",
   "execution_count": 17,
   "id": "d2b05800-0acf-4c6c-8cc5-36f23371a80c",
   "metadata": {},
   "outputs": [],
   "source": [
    "import pandas\n",
    "def get_sql(sql, connector):\n",
    "    \"\"\"Return pandas DataFrame.\"\"\"\n",
    "    cur = connector.cursor()\n",
    "    cur.execute(sql)\n",
    "    return pandas.DataFrame(cur.fetchall(), columns=[c[0] for c in cur.description])"
   ]
  },
  {
   "cell_type": "code",
   "execution_count": 18,
   "id": "357588f8-a396-4e67-a335-c62bb4175ac7",
   "metadata": {},
   "outputs": [],
   "source": [
    "import os\n",
    "import trino\n",
    "TRINO_USERNAME = os.environ.get('TRINO_USERNAME')\n",
    "TRINO_HOSTNAME = os.environ.get('TRINO_HOSTNAME')\n",
    "TRINO_PORT     = os.environ.get('TRINO_PORT')\n",
    "conn = trino.dbapi.connect(\n",
    "    host=TRINO_HOSTNAME,\n",
    "    port=TRINO_PORT,\n",
    "    user=TRINO_USERNAME\n",
    ")"
   ]
  },
  {
   "cell_type": "code",
   "execution_count": 19,
   "id": "97242c46-faa1-45a5-90e3-ecef7540b011",
   "metadata": {},
   "outputs": [
    {
     "name": "stdout",
     "output_type": "stream",
     "text": [
      "['system' 'tpch']\n",
      "['information_schema' 'sf1' 'sf100' 'sf1000' 'sf10000' 'sf100000' 'sf300'\n",
      " 'sf3000' 'sf30000' 'tiny']\n",
      "['customer' 'lineitem' 'nation' 'orders' 'part' 'partsupp' 'region'\n",
      " 'supplier']\n",
      "['Customer#000056251' 'Customer#000056252' 'Customer#000056253']\n"
     ]
    }
   ],
   "source": [
    "# query 1\n",
    "sql = 'SHOW CATALOGS'\n",
    "df = get_sql(sql, conn)\n",
    "print(df['Catalog'].values)\n",
    "\n",
    "# query 2\n",
    "sql = 'SHOW SCHEMAS from tpch'\n",
    "df = get_sql(sql, conn)\n",
    "print(df['Schema'].values)\n",
    "\n",
    "# query 3\n",
    "sql = 'SHOW TABLES FROM tpch.sf1'\n",
    "df = get_sql(sql, conn)\n",
    "print(df['Table'].values)\n",
    "\n",
    "# query 4\n",
    "sql = 'SELECT * FROM tpch.sf1.customer limit 3'\n",
    "df = get_sql(sql, conn)\n",
    "print(df['name'].values)"
   ]
  }
 ],
 "metadata": {
  "kernelspec": {
   "display_name": "Python 3",
   "language": "python",
   "name": "python3"
  },
  "language_info": {
   "codemirror_mode": {
    "name": "ipython",
    "version": 3
   },
   "file_extension": ".py",
   "mimetype": "text/x-python",
   "name": "python",
   "nbconvert_exporter": "python",
   "pygments_lexer": "ipython3",
   "version": "3.8.12"
  }
 },
 "nbformat": 4,
 "nbformat_minor": 5
}
