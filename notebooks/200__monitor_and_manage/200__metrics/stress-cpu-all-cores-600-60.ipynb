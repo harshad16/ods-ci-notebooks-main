{
 "cells": [
  {
   "cell_type": "code",
   "execution_count": null,
   "id": "78d6bba2-9d8d-492c-a590-0cb20e84101a",
   "metadata": {},
   "outputs": [],
   "source": [
    "!pip install --upgrade pip\n",
    "!pip install cpu_load_generator"
   ]
  },
  {
   "cell_type": "code",
   "execution_count": null,
   "id": "03c7d1d2-dbb7-4406-9e2a-d2ccf5d74b57",
   "metadata": {},
   "outputs": [],
   "source": [
    "from cpu_load_generator import load_all_cores\n",
    "\n",
    "#\n",
    "# Generates 100% cpu load on all cores for 600 seconds (10 minutes)\n",
    "#\n",
    "# LICENSE for cpu_load_generator:\n",
    "# https://github.com/GaetanoCarlucci/CPULoadGenerator/blob/master/LICENCE\n",
    "#\n",
    "load_all_cores(duration_s=600, target_load=0.6)  "
   ]
  }
 ],
 "metadata": {
  "kernelspec": {
   "display_name": "Python 3",
   "language": "python",
   "name": "python3"
  },
  "language_info": {
   "codemirror_mode": {
    "name": "ipython",
    "version": 3
   },
   "file_extension": ".py",
   "mimetype": "text/x-python",
   "name": "python",
   "nbconvert_exporter": "python",
   "pygments_lexer": "ipython3",
   "version": "3.8.8"
  }
 },
 "nbformat": 4,
 "nbformat_minor": 5
}
