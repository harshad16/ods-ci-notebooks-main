{
 "cells": [
  {
   "cell_type": "code",
   "execution_count": 8,
   "id": "58931e27-6159-4a54-b9a7-d8df90a49ff9",
   "metadata": {},
   "outputs": [],
   "source": [
    "import os\n",
    "\n",
    "if os.path.exists('large_file_below90.tmp'):\n",
    "    os.remove('large_file_below90.tmp')\n",
    "\n",
    "if os.path.exists('large_file_over90.tmp'):\n",
    "    os.remove('large_file_over90.tmp')\n",
    "\n",
    "if os.path.exists('large_file_100.tmp'):\n",
    "    os.remove('large_file_100.tmp')"
   ]
  },
  {
   "cell_type": "code",
   "execution_count": null,
   "id": "bd15421c-be66-40e6-848f-9a688b773cb6",
   "metadata": {},
   "outputs": [],
   "source": []
  }
 ],
 "metadata": {
  "kernelspec": {
   "display_name": "Python 3",
   "language": "python",
   "name": "python3"
  },
  "language_info": {
   "codemirror_mode": {
    "name": "ipython",
    "version": 3
   },
   "file_extension": ".py",
   "mimetype": "text/x-python",
   "name": "python",
   "nbconvert_exporter": "python",
   "pygments_lexer": "ipython3",
   "version": "3.8.6"
  }
 },
 "nbformat": 4,
 "nbformat_minor": 5
}
