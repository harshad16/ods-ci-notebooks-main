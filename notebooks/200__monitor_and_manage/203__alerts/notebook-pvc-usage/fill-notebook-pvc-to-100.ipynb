{
 "cells": [
  {
   "cell_type": "code",
   "execution_count": null,
   "id": "a2f3deeb-9b05-4e07-9078-403c10de5b46",
   "metadata": {},
   "outputs": [],
   "source": [
    "import os\n",
    "#\n",
    "# Create a large file to fill 100% the notebook PVC\n",
    "# (user notebook are 2046640128 bytes)\n",
    "#\n",
    "filesize = 2046640128\n",
    "filename = 'large_file_100.tmp'\n",
    "\n",
    "with open(filename, 'wb') as fout:\n",
    "    fout.write(os.urandom(filesize))"
   ]
  }
 ],
 "metadata": {
  "kernelspec": {
   "display_name": "Python 3",
   "language": "python",
   "name": "python3"
  },
  "language_info": {
   "codemirror_mode": {
    "name": "ipython",
    "version": 3
   },
   "file_extension": ".py",
   "mimetype": "text/x-python",
   "name": "python",
   "nbconvert_exporter": "python",
   "pygments_lexer": "ipython3",
   "version": "3.8.6"
  }
 },
 "nbformat": 4,
 "nbformat_minor": 5
}
