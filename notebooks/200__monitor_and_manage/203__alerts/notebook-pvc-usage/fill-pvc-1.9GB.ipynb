{
 "cells": [
  {
   "cell_type": "code",
   "execution_count": 1,
   "id": "5ebd112f-f52b-47d0-aeca-f1b801b54242",
   "metadata": {},
   "outputs": [],
   "source": [
    "import os\n",
    "#\n",
    "# Fill the notebook PVC up to pvc_fill_size creating multiple files \n",
    "#\n",
    "pvc_fill_size  =  1900 * 1000 * 1000\n",
    "file_size      =   100 * 1000 * 1000\n",
    "\n",
    "for i in range(pvc_fill_size // file_size):\n",
    "    filename = 'test-pvc-{}.tmp'.format(i) \n",
    "    with open(filename, 'wb') as fout:\n",
    "        fout.write(os.urandom(file_size))"
   ]
  },
  {
   "cell_type": "code",
   "execution_count": null,
   "id": "9109603d-db7d-4de9-bd51-ac694d4391de",
   "metadata": {},
   "outputs": [],
   "source": []
  }
 ],
 "metadata": {
  "kernelspec": {
   "display_name": "Python 3",
   "language": "python",
   "name": "python3"
  },
  "language_info": {
   "codemirror_mode": {
    "name": "ipython",
    "version": 3
   },
   "file_extension": ".py",
   "mimetype": "text/x-python",
   "name": "python",
   "nbconvert_exporter": "python",
   "pygments_lexer": "ipython3",
   "version": "3.8.6"
  }
 },
 "nbformat": 4,
 "nbformat_minor": 5
}
