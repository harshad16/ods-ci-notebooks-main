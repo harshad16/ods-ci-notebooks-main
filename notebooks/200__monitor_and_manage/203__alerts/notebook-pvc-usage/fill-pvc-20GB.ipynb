{
 "cells": [
  {
   "cell_type": "code",
   "execution_count": 1,
   "id": "4fc784b5-064e-4708-9812-e15011ff3eef",
   "metadata": {},
   "outputs": [],
   "source": [
    "import os\n",
    "#\n",
    "# Fill the notebook PVC up to pvc_fill_size creating multiple files \n",
    "#\n",
    "\n",
    "# pvc_fill_size needs to be slightly below 100% PVC capacity \n",
    "# to avoid having JupyterLab errors\n",
    "pvc_fill_size  =  19900 * 1024 * 1024\n",
    "file_size      =    300 * 1024 * 1024\n",
    "\n",
    "for i in range(pvc_fill_size // file_size):\n",
    "    filename = 'test-pvc-{}.tmp'.format(i) \n",
    "    with open(filename, 'wb') as fout:\n",
    "        fout.write(os.urandom(file_size))\n",
    "        "
   ]
  }
 ],
 "metadata": {
  "kernelspec": {
   "display_name": "Python 3",
   "language": "python",
   "name": "python3"
  },
  "language_info": {
   "codemirror_mode": {
    "name": "ipython",
    "version": 3
   },
   "file_extension": ".py",
   "mimetype": "text/x-python",
   "name": "python",
   "nbconvert_exporter": "python",
   "pygments_lexer": "ipython3",
   "version": "3.8.6"
  }
 },
 "nbformat": 4,
 "nbformat_minor": 5
}
