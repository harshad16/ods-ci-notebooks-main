{
 "cells": [
  {
   "cell_type": "code",
   "execution_count": null,
   "id": "25ee373d-7763-4a53-af21-25c8420250ac",
   "metadata": {},
   "outputs": [],
   "source": [
    "import os\n",
    "import shutil\n",
    "import math\n",
    "\n",
    "#\n",
    "# Fill the notebook PVC slightly over 91% of its capacity\n",
    "#\n",
    "\n",
    "percent_to_fill = 91\n",
    "path = '/opt/app-root/src'\n",
    "\n",
    "def fill_disk(pvc_fill_size):\n",
    "    \n",
    "    file_size      =    500 * 1024 * 1024\n",
    "    \n",
    "    for i in range(pvc_fill_size // file_size):\n",
    "        filename = 'test-pvc-{}.tmp'.format(i) \n",
    "        with open(filename, 'wb') as fout:\n",
    "            fout.write(os.urandom(file_size))\n",
    "        \n",
    "    if (pvc_fill_size % file_size) > 0:\n",
    "        filename = 'test-pvc-remaining.tmp'.format(i) \n",
    "        with open(filename, 'wb') as fout:\n",
    "            fout.write(os.urandom(pvc_fill_size % file_size))\n",
    "            \n",
    "# Calcule size to fill\n",
    "disk_usage = shutil.disk_usage(path) \n",
    "fill_size  = math.trunc((disk_usage.total * (percent_to_fill / 100)) - disk_usage.used)\n",
    "\n",
    "if fill_size > 0:\n",
    "    print('Disk info:    {}'.format(disk_usage))\n",
    "    print('Size to fill: {}'.format(fill_size))    \n",
    "    fill_disk(fill_size)"
   ]
  }
 ],
 "metadata": {
  "kernelspec": {
   "display_name": "Python 3",
   "language": "python",
   "name": "python3"
  },
  "language_info": {
   "codemirror_mode": {
    "name": "ipython",
    "version": 3
   },
   "file_extension": ".py",
   "mimetype": "text/x-python",
   "name": "python",
   "nbconvert_exporter": "python",
   "pygments_lexer": "ipython3",
   "version": "3.8.8"
  }
 },
 "nbformat": 4,
 "nbformat_minor": 5
}
