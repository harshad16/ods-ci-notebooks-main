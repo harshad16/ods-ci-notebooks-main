{
 "cells": [
  {
   "cell_type": "code",
   "execution_count": 2,
   "id": "cb7e35fa-bf30-435b-ac4b-46845be84eb2",
   "metadata": {},
   "outputs": [],
   "source": [
    "import os\n",
    "#\n",
    "# Create a large file to fill the notebook PVC over 90%\n",
    "# (user notebook are 2046640128 bytes)\n",
    "#\n",
    "filesize = 1841976115\n",
    "filename = 'large_file_over90.tmp'\n",
    "\n",
    "with open(filename, 'wb') as fout:\n",
    "    fout.write(os.urandom(filesize))"
   ]
  },
  {
   "cell_type": "code",
   "execution_count": null,
   "id": "a2f3deeb-9b05-4e07-9078-403c10de5b46",
   "metadata": {},
   "outputs": [],
   "source": []
  }
 ],
 "metadata": {
  "kernelspec": {
   "display_name": "Python 3",
   "language": "python",
   "name": "python3"
  },
  "language_info": {
   "codemirror_mode": {
    "name": "ipython",
    "version": 3
   },
   "file_extension": ".py",
   "mimetype": "text/x-python",
   "name": "python",
   "nbconvert_exporter": "python",
   "pygments_lexer": "ipython3",
   "version": "3.8.6"
  }
 },
 "nbformat": 4,
 "nbformat_minor": 5
}
