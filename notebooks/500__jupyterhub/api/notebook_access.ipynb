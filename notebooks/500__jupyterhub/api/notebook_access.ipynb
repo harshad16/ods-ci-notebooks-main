{
 "cells": [
  {
   "cell_type": "markdown",
   "id": "50fee750-47da-43e1-a6d2-113ca56d4555",
   "metadata": {},
   "source": [
    "## Imports and functions"
   ]
  },
  {
   "cell_type": "code",
   "execution_count": null,
   "id": "71c1e2e1-2d39-4621-a65d-f1ce7a3532cd",
   "metadata": {},
   "outputs": [],
   "source": [
    "!pip install regex"
   ]
  },
  {
   "cell_type": "code",
   "execution_count": null,
   "id": "d39608b6-7e47-464e-8f9a-4661a0a7a855",
   "metadata": {},
   "outputs": [],
   "source": [
    "import regex\n",
    "import requests\n",
    "import json\n",
    "import socket\n",
    "import re\n",
    "import base64\n",
    "import os"
   ]
  },
  {
   "cell_type": "code",
   "execution_count": null,
   "id": "30a51bd4",
   "metadata": {},
   "outputs": [],
   "source": [
    "ip = os.environ.get('pod_ip')\n",
    "login_name = os.environ.get('pod_login')\n",
    "my_pod_ip = ''"
   ]
  },
  {
   "cell_type": "markdown",
   "id": "65c80f4e-b219-4d9b-94b0-e2729b80cabc",
   "metadata": {},
   "source": [
    "### Scanning functions"
   ]
  },
  {
   "cell_type": "code",
   "execution_count": null,
   "id": "37814877-0047-41d6-8d33-52ea7f7b2a63",
   "metadata": {},
   "outputs": [],
   "source": [
    "def check_port(ip, port):\n",
    "    s = socket.socket(socket.AF_INET, socket.SOCK_STREAM)\n",
    "    s.settimeout(0.1)\n",
    "    try:\n",
    "        s.connect((ip, port))\n",
    "        #print(f\"Server found at {ip}:{port}                \")\n",
    "        return True\n",
    "    except socket.error as e:\n",
    "        #print(f\"No server found at {ip}:{port}             \", end=\"\\r\")\n",
    "        #print(\"\\r\", end=\"\")\n",
    "        return False\n",
    "\n",
    "\n",
    "def scan_range(start_ip, end_ip, port, server_ips):\n",
    "    start_ip_parts = [int(part) for part in start_ip.split(\".\")]\n",
    "    end_ip_parts = [int(part) for part in end_ip.split(\".\")]\n",
    "\n",
    "    current_ip_parts = start_ip_parts\n",
    "\n",
    "    while current_ip_parts != end_ip_parts:\n",
    "        current_ip = \".\".join(str(part) for part in current_ip_parts)\n",
    "        if check_port(current_ip, port):\n",
    "            server_ips.append(current_ip)\n",
    "        current_ip_parts[3] += 1\n",
    "        for i in range(3, 0, -1):\n",
    "            if current_ip_parts[i] == 256:\n",
    "                current_ip_parts[i] = 0\n",
    "                current_ip_parts[i-1] += 1\n",
    "\n",
    "    if check_port(end_ip, port):\n",
    "        server_ips.append(end_ip)\n",
    "\n",
    "def check_jupyter_logins(server_ips):\n",
    "    ips_logins = []\n",
    "    for ip in server_ips:\n",
    "        if ip==my_pod_ip: continue\n",
    "        response = requests.get('http://' +  ip + ':8888/', timeout=1)\n",
    "        login=regex.findall(r'rhods-notebooks\\/\\K(.*?)\\/',response.content.decode(\"utf-8\"))\n",
    "        if len(login)>0:\n",
    "            ips_logins.append((ip,login[0]))\n",
    "    \n",
    "    if len(ips_logins)>0:\n",
    "        print(\"Here are the Pod IPs and the associated logins:\")\n",
    "        print(\"-----------------------------------------------\")\n",
    "        for element in ips_logins:\n",
    "            print(element[0] + ' -> ' + element[1])\n",
    "    else:\n",
    "        print(\"No Jupyter pods found\")\n",
    "\n",
    "def print_tree_view(location):\n",
    "    try:\n",
    "        response = requests.get('http://' +  ip + ':8888/notebook/rhods-notebooks/' + login_name + '/api/contents' + location, timeout=10)\n",
    "        print(\"Here are all the accessible files:\")\n",
    "        print(\"----------------------------------\")\n",
    "        contentData = response.json()['content']\n",
    "        if isinstance(contentData, list):\n",
    "            for item in contentData:\n",
    "                if item['type'] != 'directory':\n",
    "                    print(item['path'])\n",
    "                else:\n",
    "                    print_tree_view('/' + item['path'])\n",
    "    except requests.ConnectTimeout:\n",
    "        print('Server did not respond after 10 seconds, assuming connection is blocked')\n",
    "        \n",
    "def scan_pods():\n",
    "    ip_mask = '.'.join(ip.split('.')[:3])\n",
    "    start_ip = ip_mask+'.0'\n",
    "    end_ip = ip_mask+'.255'\n",
    "    port = 8888\n",
    "    server_ips = []\n",
    "    scan_range(start_ip, end_ip, port, server_ips)\n",
    "    if len(server_ips)>0:\n",
    "        print(\"Servers found at:\")\n",
    "        for _ in server_ips:\n",
    "            if _ == my_pod_ip: print(_+' (my own server)')\n",
    "            else: print(_)\n",
    "    else:\n",
    "        print(\"No servers found\")\n",
    "    return server_ips"
   ]
  },
  {
   "cell_type": "code",
   "execution_count": null,
   "id": "810655c6-9958-4d64-8cf2-e1a4c29b1ff9",
   "metadata": {},
   "outputs": [],
   "source": []
  }
 ],
 "metadata": {
  "kernelspec": {
   "display_name": "Python 3 (ipykernel)",
   "language": "python",
   "name": "python3"
  },
  "language_info": {
   "codemirror_mode": {
    "name": "ipython",
    "version": 3
   },
   "file_extension": ".py",
   "mimetype": "text/x-python",
   "name": "python",
   "nbconvert_exporter": "python",
   "pygments_lexer": "ipython3",
   "version": "3.9.16"
  }
 },
 "nbformat": 4,
 "nbformat_minor": 5
}
